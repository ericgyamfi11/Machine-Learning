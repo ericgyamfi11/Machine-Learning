{
 "cells": [
  {
   "cell_type": "markdown",
   "metadata": {},
   "source": [
    "## Lab 9 Tasks - Solutions"
   ]
  },
  {
   "cell_type": "markdown",
   "metadata": {},
   "source": [
    "Step 1. Download the *Diabetes* dataset from the link below, and load the data into a Pandas Data Frame.\n",
    "\n",
    "http://mlg.ucd.ie/modules/COMP41680/diabetes.csv\n",
    "\n",
    "The goal of the classification tasks for this dataset is to predict whether a patient will test 'positve' or 'negative' for diabetes, based on 8 numeric features."
   ]
  },
  {
   "cell_type": "code",
   "execution_count": null,
   "metadata": {},
   "outputs": [],
   "source": []
  },
  {
   "cell_type": "markdown",
   "metadata": {},
   "source": [
    "Step 2. Separate the numeric features from the target classs labels."
   ]
  },
  {
   "cell_type": "code",
   "execution_count": null,
   "metadata": {},
   "outputs": [],
   "source": []
  },
  {
   "cell_type": "markdown",
   "metadata": {},
   "source": [
    "Step 3. Generate a 60/40 random training and test split of the data. Based on this split, evaluate the accuracy achieved by a KNN classifier on the *Diabetes* dataset for: K=1, K=3, K=5"
   ]
  },
  {
   "cell_type": "code",
   "execution_count": null,
   "metadata": {
    "collapsed": true
   },
   "outputs": [],
   "source": []
  },
  {
   "cell_type": "markdown",
   "metadata": {},
   "source": [
    "Step 4. Use 5-fold cross-validation to evaluate the accuracy achieved by a KNN classifier on the *Diabetes* dataset for: K=1, K=3, K=5"
   ]
  },
  {
   "cell_type": "code",
   "execution_count": null,
   "metadata": {},
   "outputs": [],
   "source": []
  },
  {
   "cell_type": "markdown",
   "metadata": {},
   "source": [
    "Step 5. Using the best performing number of nearest neighbours from Step 4, build a KNN model on the entire Diabetes dataset.\n",
    "\n",
    "Use the model to make positive or negative predictions for the new unseen input data from the link below.\n",
    "\n",
    "http://mlg.ucd.ie/modules/COMP41680/diabetes-unseen.csv"
   ]
  },
  {
   "cell_type": "code",
   "execution_count": null,
   "metadata": {},
   "outputs": [],
   "source": []
  }
 ],
 "metadata": {
  "kernelspec": {
   "display_name": "Python 3",
   "language": "python",
   "name": "python3"
  },
  "language_info": {
   "codemirror_mode": {
    "name": "ipython",
    "version": 3
   },
   "file_extension": ".py",
   "mimetype": "text/x-python",
   "name": "python",
   "nbconvert_exporter": "python",
   "pygments_lexer": "ipython3",
   "version": "3.6.6"
  }
 },
 "nbformat": 4,
 "nbformat_minor": 1
}
