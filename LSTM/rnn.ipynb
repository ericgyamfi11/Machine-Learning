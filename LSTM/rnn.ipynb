{
 "cells": [
  {
   "cell_type": "code",
   "execution_count": 1,
   "metadata": {},
   "outputs": [],
   "source": [
    "# LSTM for international airline passengers problem with memory\n",
    "import time\n",
    "import pandas as pd\n",
    "import numpy as np\n",
    "import matplotlib.font_manager\n",
    "from sklearn import svm\n",
    "import sys\n",
    "from matplotlib import pyplot\n",
    "import numpy\n",
    "import matplotlib.pyplot as plt\n",
    "from pandas import read_csv\n",
    "from sklearn import metrics\n",
    "import math\n",
    "from keras.models import Sequential\n",
    "from keras.layers import Dense\n",
    "from keras.layers import LSTM\n",
    "from sklearn import preprocessing\n",
    "from sklearn.preprocessing import MinMaxScaler\n",
    "from sklearn.metrics import mean_squared_error\n",
    "from sklearn.model_selection import train_test_split\n",
    "import tensorflow as tf\n",
    "from keras.layers.core import Dense, Activation\n",
    "from keras.callbacks import EarlyStopping\n",
    "from keras.callbacks import ModelCheckpoint\n",
    "from keras.optimizers import SGD\n",
    "from keras.optimizers import Adam\n",
    "from keras.layers import Dense, Dropout, Activation, Embedding\n",
    "from keras import callbacks\n",
    "from keras.callbacks import ModelCheckpoint, EarlyStopping, ReduceLROnPlateau, CSVLogger\n",
    "import random\n",
    "import shutil\n",
    "import datetime"
   ]
  },
  {
   "cell_type": "code",
   "execution_count": 2,
   "metadata": {},
   "outputs": [],
   "source": [
    "#convert an array of values into a dataset matrix\n",
    "def create_dataset(dataset, look_back=1):\n",
    "    dataX, dataY = [], []\n",
    "    for i in range(len(dataset)-look_back-1):\n",
    "        a = dataset[i:(i+look_back), 0]\n",
    "        dataX.append(a)\n",
    "        dataY.append(dataset[i + look_back, 0])\n",
    "    return numpy.array(dataX), numpy.array(dataY)"
   ]
  },
  {
   "cell_type": "code",
   "execution_count": 3,
   "metadata": {},
   "outputs": [],
   "source": [
    "def encode_num_zscore(df, name, mean=None, sd=None):\n",
    "    if mean is None:\n",
    "        mean = df[name].mean()\n",
    "    if sd is None:\n",
    "        sd = df[name].std()\n",
    "    df[name] = (df[name] - mean)/sd"
   ]
  },
  {
   "cell_type": "code",
   "execution_count": 4,
   "metadata": {},
   "outputs": [],
   "source": [
    "def encode_text_dummy(df, name):\n",
    "    dummies = pd.get_dummies(df[name])\n",
    "    for x in dummies.columns:\n",
    "        dummy_name = \"{}-{}\".format(name, x)\n",
    "        df[dummy_name] = dummies[x]\n",
    "    df.drop(name, axis=1, inplace = True)"
   ]
  },
  {
   "cell_type": "code",
   "execution_count": 5,
   "metadata": {},
   "outputs": [],
   "source": [
    "def encode_text_index(df, name):\n",
    "    le=preprocessing.LabelEncoder()\n",
    "    df[name] = le.fit_transform(df[name])\n",
    "    return le.classes_"
   ]
  },
  {
   "cell_type": "code",
   "execution_count": 6,
   "metadata": {},
   "outputs": [],
   "source": [
    "def to_xy(df, target):\n",
    "    result=[]\n",
    "    for x in df.columns:\n",
    "        if x != target:\n",
    "            result.append(x)\n",
    "    target_type = df[target].dtypes\n",
    "    target_type = target_type[0] if hasattr(target_type, '_iter_') else target_type\n",
    "    if target_type in (np.int64, np.int32):\n",
    "        dummies = pd.get_dummies(df[target])\n",
    "        return df.as_matrix(result).astype(np.float32), dummies.as_matrix().astype(np.float32)\n",
    "    else:\n",
    "        return df.df.as_matrix(result).astype(np.float32), df.as_matrix([target]).astype(np.float32)\n",
    "    "
   ]
  },
  {
   "cell_type": "code",
   "execution_count": 7,
   "metadata": {},
   "outputs": [],
   "source": [
    "def to_XY (dataset, target):\n",
    "    result= []\n",
    "    for x in dataset.columns:\n",
    "        if x != target: \n",
    "            result.append (x)\n",
    "    target_type = dataset[target].dtypes\n",
    "    target_type = target_type[0] if hasattr(target_type, '__iter__') else target_type\n",
    "    return dataset.as_matrix(result).astype(np.float32), dataset.as_matrix([target]).astype(np.float32)"
   ]
  },
  {
   "cell_type": "code",
   "execution_count": 8,
   "metadata": {},
   "outputs": [
    {
     "data": {
      "text/html": [
       "<div>\n",
       "<style scoped>\n",
       "    .dataframe tbody tr th:only-of-type {\n",
       "        vertical-align: middle;\n",
       "    }\n",
       "\n",
       "    .dataframe tbody tr th {\n",
       "        vertical-align: top;\n",
       "    }\n",
       "\n",
       "    .dataframe thead th {\n",
       "        text-align: right;\n",
       "    }\n",
       "</style>\n",
       "<table border=\"1\" class=\"dataframe\">\n",
       "  <thead>\n",
       "    <tr style=\"text-align: right;\">\n",
       "      <th></th>\n",
       "      <th>ForecastingTime</th>\n",
       "      <th>AirPressure</th>\n",
       "      <th>Temperature</th>\n",
       "      <th>Humidity</th>\n",
       "      <th>WindSpeed100m</th>\n",
       "      <th>WindSpeed10m</th>\n",
       "      <th>WindDirectionZonal</th>\n",
       "      <th>WindDirectionMeridional</th>\n",
       "      <th>PowerGeneration</th>\n",
       "    </tr>\n",
       "  </thead>\n",
       "  <tbody>\n",
       "    <tr>\n",
       "      <th>0</th>\n",
       "      <td>25</td>\n",
       "      <td>0.392238</td>\n",
       "      <td>0.406113</td>\n",
       "      <td>0.638134</td>\n",
       "      <td>0.625094</td>\n",
       "      <td>0.548931</td>\n",
       "      <td>0.820776</td>\n",
       "      <td>0.883540</td>\n",
       "      <td>0.506970</td>\n",
       "    </tr>\n",
       "    <tr>\n",
       "      <th>1</th>\n",
       "      <td>26</td>\n",
       "      <td>0.379920</td>\n",
       "      <td>0.405190</td>\n",
       "      <td>0.614377</td>\n",
       "      <td>0.628325</td>\n",
       "      <td>0.563099</td>\n",
       "      <td>0.812227</td>\n",
       "      <td>0.890531</td>\n",
       "      <td>0.579394</td>\n",
       "    </tr>\n",
       "    <tr>\n",
       "      <th>2</th>\n",
       "      <td>27</td>\n",
       "      <td>0.367603</td>\n",
       "      <td>0.404268</td>\n",
       "      <td>0.590621</td>\n",
       "      <td>0.631556</td>\n",
       "      <td>0.577266</td>\n",
       "      <td>0.803525</td>\n",
       "      <td>0.897331</td>\n",
       "      <td>0.524848</td>\n",
       "    </tr>\n",
       "    <tr>\n",
       "      <th>3</th>\n",
       "      <td>28</td>\n",
       "      <td>0.360061</td>\n",
       "      <td>0.401325</td>\n",
       "      <td>0.598596</td>\n",
       "      <td>0.629573</td>\n",
       "      <td>0.582233</td>\n",
       "      <td>0.791599</td>\n",
       "      <td>0.906165</td>\n",
       "      <td>0.543939</td>\n",
       "    </tr>\n",
       "    <tr>\n",
       "      <th>4</th>\n",
       "      <td>29</td>\n",
       "      <td>0.352519</td>\n",
       "      <td>0.398381</td>\n",
       "      <td>0.606571</td>\n",
       "      <td>0.627590</td>\n",
       "      <td>0.587199</td>\n",
       "      <td>0.779416</td>\n",
       "      <td>0.914640</td>\n",
       "      <td>0.620606</td>\n",
       "    </tr>\n",
       "  </tbody>\n",
       "</table>\n",
       "</div>"
      ],
      "text/plain": [
       "   ForecastingTime  AirPressure  Temperature  Humidity  WindSpeed100m  \\\n",
       "0               25     0.392238     0.406113  0.638134       0.625094   \n",
       "1               26     0.379920     0.405190  0.614377       0.628325   \n",
       "2               27     0.367603     0.404268  0.590621       0.631556   \n",
       "3               28     0.360061     0.401325  0.598596       0.629573   \n",
       "4               29     0.352519     0.398381  0.606571       0.627590   \n",
       "\n",
       "   WindSpeed10m  WindDirectionZonal  WindDirectionMeridional  PowerGeneration  \n",
       "0      0.548931            0.820776                 0.883540         0.506970  \n",
       "1      0.563099            0.812227                 0.890531         0.579394  \n",
       "2      0.577266            0.803525                 0.897331         0.524848  \n",
       "3      0.582233            0.791599                 0.906165         0.543939  \n",
       "4      0.587199            0.779416                 0.914640         0.620606  "
      ]
     },
     "execution_count": 8,
     "metadata": {},
     "output_type": "execute_result"
    }
   ],
   "source": [
    "df =  pd.read_csv(\"wf1.csv\")\n",
    "#power = df[\"PowerGeneration\"]\n",
    "df = df.drop(columns={'Time'})\n",
    "df.head()"
   ]
  },
  {
   "cell_type": "code",
   "execution_count": null,
   "metadata": {},
   "outputs": [],
   "source": [
    "encode_num_zscore(df, 'ForecastingTime')\n",
    "encode_num_zscore(df, 'AirPressure')\n",
    "encode_num_zscore(df, 'Temperature')\n",
    "encode_num_zscore(df, 'Humidity')\n",
    "encode_num_zscore(df, 'WindSpeed100m')\n",
    "encode_num_zscore(df, 'WindSpeed10m')\n",
    "encode_num_zscore(df, 'WindDirectionZonal')\n",
    "encode_num_zscore(df, 'WindDirectionMeridional')\n",
    "encode_num_zscore(df, 'WindDirectionMeridional')\n",
    "\n",
    "outcomes = encode_text_index(df, 'PowerGeneration')\n",
    "num_classes = len(outcomes)\n",
    "df.dropna(inplace=True, axis=1)\n",
    "df[0:5]"
   ]
  },
  {
   "cell_type": "code",
   "execution_count": 1,
   "metadata": {},
   "outputs": [
    {
     "ename": "NameError",
     "evalue": "name 'to_xy' is not defined",
     "output_type": "error",
     "traceback": [
      "\u001b[0;31m---------------------------------------------------------------------------\u001b[0m",
      "\u001b[0;31mNameError\u001b[0m                                 Traceback (most recent call last)",
      "\u001b[0;32m<ipython-input-1-8563e67e0338>\u001b[0m in \u001b[0;36m<module>\u001b[0;34m\u001b[0m\n\u001b[0;32m----> 1\u001b[0;31m \u001b[0mx\u001b[0m\u001b[0;34m,\u001b[0m \u001b[0my\u001b[0m \u001b[0;34m=\u001b[0m \u001b[0mto_xy\u001b[0m\u001b[0;34m(\u001b[0m\u001b[0mdf\u001b[0m\u001b[0;34m,\u001b[0m \u001b[0;34m'PowerGeneration'\u001b[0m\u001b[0;34m)\u001b[0m\u001b[0;34m\u001b[0m\u001b[0;34m\u001b[0m\u001b[0m\n\u001b[0m\u001b[1;32m      2\u001b[0m \u001b[0;31m# choose a number of time steps\u001b[0m\u001b[0;34m\u001b[0m\u001b[0;34m\u001b[0m\u001b[0;34m\u001b[0m\u001b[0m\n\u001b[1;32m      3\u001b[0m \u001b[0mn_steps_in\u001b[0m\u001b[0;34m,\u001b[0m \u001b[0mn_steps_out\u001b[0m \u001b[0;34m=\u001b[0m \u001b[0;36m8\u001b[0m\u001b[0;34m,\u001b[0m \u001b[0;36m2574\u001b[0m\u001b[0;34m\u001b[0m\u001b[0;34m\u001b[0m\u001b[0m\n\u001b[1;32m      4\u001b[0m \u001b[0mn_features\u001b[0m \u001b[0;34m=\u001b[0m \u001b[0;36m1\u001b[0m\u001b[0;34m\u001b[0m\u001b[0;34m\u001b[0m\u001b[0m\n\u001b[1;32m      5\u001b[0m \u001b[0mX\u001b[0m \u001b[0;34m=\u001b[0m \u001b[0mx\u001b[0m\u001b[0;34m.\u001b[0m\u001b[0mreshape\u001b[0m\u001b[0;34m(\u001b[0m\u001b[0;34m(\u001b[0m\u001b[0mx\u001b[0m\u001b[0;34m.\u001b[0m\u001b[0mshape\u001b[0m\u001b[0;34m[\u001b[0m\u001b[0;36m0\u001b[0m\u001b[0;34m]\u001b[0m\u001b[0;34m,\u001b[0m \u001b[0mx\u001b[0m\u001b[0;34m.\u001b[0m\u001b[0mshape\u001b[0m\u001b[0;34m[\u001b[0m\u001b[0;36m1\u001b[0m\u001b[0;34m]\u001b[0m\u001b[0;34m,\u001b[0m \u001b[0mn_features\u001b[0m\u001b[0;34m)\u001b[0m\u001b[0;34m)\u001b[0m\u001b[0;34m\u001b[0m\u001b[0;34m\u001b[0m\u001b[0m\n",
      "\u001b[0;31mNameError\u001b[0m: name 'to_xy' is not defined"
     ]
    }
   ],
   "source": [
    "x, y = to_xy(df, 'PowerGeneration')\n",
    "# choose a number of time steps\n",
    "n_steps_in, n_steps_out = 8, 2574\n",
    "n_features = 1\n",
    "X = x.reshape((x.shape[0], x.shape[1], n_features))\n",
    "# define model\n",
    "model = Sequential()\n",
    "model.add(LSTM(100, activation='relu', return_sequences=True, input_shape=(n_steps_in, n_features)))\n",
    "model.add(LSTM(100, activation='relu'))\n",
    "model.add(Dense(n_steps_out))\n",
    "model.compile(optimizer='adam', loss='mse', metrics=['accuracy'])\n",
    "# fit model\n",
    "model.fit(X, y, epochs=50, verbose=1)\n",
    "# demonstrate prediction\n",
    "#x_input = array([70, 80, 90])\n",
    "#x_input = x_input.reshape((1, n_steps_in, n_features))\n",
    "#yhat = model.predict(x_input, verbose=0)\n",
    "#print(yhat)"
   ]
  },
  {
   "cell_type": "code",
   "execution_count": null,
   "metadata": {},
   "outputs": [],
   "source": [
    "x, y = to_xy(df, 'PowerGeneration')\n",
    "\n",
    "x_train, x_test, y_train, y_test = train_test_split(x, y, test_size=0.3, random_state=42)\n",
    "batch_size = 64\n",
    "learning_rate = 0.1\n",
    "#create neural net\n",
    "model = Sequential()\n",
    "model.add(Dropout(0.5))\n",
    "model.add(Dense(100, input_dim=x.shape[1], activation='relu'))\n",
    "model.add(Dense(100, activation='relu'))\n",
    "#model.add(Dense(50, activation='relu'))\n",
    "#model.add(Dense(25, activation='relu'))\n",
    "#model.add(Dense(1, kernel_initializer='uniform'))\n",
    "model.add(Dense(y.shape[1], activation='sigmoid'))\n",
    "opt = Adam(lr=0.0001)\n",
    "#opt = SGD(lr=learning_rate, decay=1e-4, momentum=0.9, nesterov=True)\n",
    "model.compile(loss='mse', optimizer=opt, metrics=['accuracy'])\n",
    "#model.compile(loss='categorical_crossentropy', optimizer='adam')\n",
    "monitor = EarlyStopping(monitor='val_loss', min_delta=1e-8, patience=5,verbose=1,mode='auto')\n",
    "checkpointer = ModelCheckpoint(filepath=\"best_weights.hdf5\", verbose=0, save_best_only=True)\n",
    "model.fit(x,y, validation_data=(x_test,y_test),batch_size=batch_size, callbacks= [ checkpointer], verbose=1,epochs=10)\n",
    "model.load_weights('best_weights.hdf5')\n",
    "#,"
   ]
  },
  {
   "cell_type": "code",
   "execution_count": null,
   "metadata": {},
   "outputs": [],
   "source": [
    "# serialize model to JSON\n",
    "model_json = model.to_json()\n",
    "with open(\"model.json\", \"w\") as json_file:\n",
    "    json_file.write(model_json)\n",
    "# serialize weights to HDF5\n",
    "model.save_weights(\"model.h5\")\n",
    "print(\"Saved model to disk\")"
   ]
  },
  {
   "cell_type": "code",
   "execution_count": null,
   "metadata": {},
   "outputs": [],
   "source": [
    "pred = model.predict(x_test)\n",
    "pred = np.argmax(pred,axis=1)\n",
    "y_eval = np.argmax(y_test, axis=1)\n",
    "score = metrics.accuracy_score(y_eval,pred)\n",
    "#loss, accuracy = model.evaluate(np.array(x_test), np.array(y_test))\n",
    "print(\"Validation score: {}\".format(score))"
   ]
  },
  {
   "cell_type": "code",
   "execution_count": null,
   "metadata": {},
   "outputs": [],
   "source": [
    "y_pred_tree = model.predict(x_test)\n",
    "print(\"Accuracy: \" +  str(score))\n",
    "print(metrics.classification_report(y_eval, pred))\n",
    "print(\"Confusion Matrix\")\n",
    "#display(pd.crosstab(y_test, y_pred_tree, rownames=['True'], colnames=['attack_cat'], margins=True))"
   ]
  },
  {
   "cell_type": "code",
   "execution_count": null,
   "metadata": {},
   "outputs": [],
   "source": [
    "y_new = df['PowerGeneration']\n",
    "x_new = df.drop(df.columns.to_series()['PowerGeneration':], axis=1)\n",
    "x_train, x_test, y_train, y_test = train_test_split(x_new, y_new, test_size=0.25, random_state=42) \n",
    "x_train = np.array(x_train) \n",
    "\n",
    "x_test = np.array(x_test) \n",
    "LSTMtrain_X= x_train.reshape(x_train.shape[0], 1, 8) \n",
    "LSTMtest_X= x_test.reshape(x_test.shape[0], 1, 8)"
   ]
  },
  {
   "cell_type": "code",
   "execution_count": null,
   "metadata": {},
   "outputs": [],
   "source": [
    "batch_size = 8\n",
    "window = 1\n",
    "num_features=8\n",
    "learning_rate = 0.01\n",
    "# 1. define the network\n",
    "model2 = Sequential()\n",
    "#model2.add(LSTM(80,input_dim=39, activation='relu'))  # try using a GRU instead, for fun\n",
    "model2.add(LSTM(100, input_shape=(window, num_features), consume_less=\"mem\", activation='relu'))\n",
    "#model2.add(Dropout(0.2))\n",
    "#model2.add(Dense(num_features, activation='softmax'))\n",
    "#model2.add(LSTM(100, activation='relu'))\n",
    "model2.add(Dense(1, activation='softmax'))\n",
    "model2.add(Activation('linear'))\n",
    "#optimizer = SGD(lr=learning_rate, decay=1e-4, momentum=0.9, nesterov=True)\n",
    "model2.compile(loss='mse', optimizer='adam', metrics=['accuracy'])\n",
    "checkpointer = callbacks.ModelCheckpoint(filepath=\"checkpoint-{epoch:02d}.hdf5\", verbose=1, save_best_only=True, monitor='val_acc',mode='max')\n",
    "csv_logger = CSVLogger('training_set_iranalysis.csv',separator=',', append=False)\n",
    "monitor = EarlyStopping(monitor='val_loss', min_delta=1e-3, patience=5,verbose=1,mode='auto')\n",
    "#checkpointer = ModelCheckpoint(filepath=\"best_weights.hdf5\", verbose=0, save_best_only=True)\n",
    "model2.fit(LSTMtrain_X, y_train, nb_epoch=500, batch_size=batch_size, validation_data=(LSTMtest_X, y_test), callbacks=[checkpointer,csv_logger])\n",
    "model2.save(\"lstm1layer_model.hdf5\")\n",
    "#,callbacks=[checkpointer,csv_logger]\n",
    "#callbacks= [monitor, checkpointer]\n",
    "loss, accuracy = model2.evaluate(LSTMtest_X, y_test)\n",
    "print(\"\\nLoss: %.2f, Accuracy: %.2f%%\" % (loss, accuracy*100))\n",
    "#,monitor"
   ]
  },
  {
   "cell_type": "code",
   "execution_count": null,
   "metadata": {},
   "outputs": [],
   "source": [
    "import pickle\n",
    "# save the model to disk\n",
    "filename = 'LSTM_model.sav'\n",
    "pickle.dump(model2, open(filename, 'wb'))\n",
    "print(\"Model saved to file\")"
   ]
  },
  {
   "cell_type": "code",
   "execution_count": null,
   "metadata": {},
   "outputs": [],
   "source": [
    "#y_pred = model2.predict_classes(LSTMtest_X)\n",
    "y_pred = model2.predict(LSTMtest_X)\n",
    "y_pred= (np.round(y_pred)).astype(np.int64)\n",
    "oss, accuracy = model2.evaluate(LSTMtest_X, y_test)\n",
    "print(\"\\nLoss: %.2f, Accuracy: %.2f%%\" % (loss, accuracy*100))\n",
    "print(metrics.classification_report(y_test, y_pred))"
   ]
  },
  {
   "cell_type": "code",
   "execution_count": null,
   "metadata": {},
   "outputs": [],
   "source": []
  }
 ],
 "metadata": {
  "kernelspec": {
   "display_name": "Python 3",
   "language": "python",
   "name": "python3"
  }
 },
 "nbformat": 4,
 "nbformat_minor": 2
}
